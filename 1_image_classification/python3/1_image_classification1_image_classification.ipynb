{
  "nbformat": 4,
  "nbformat_minor": 0,
  "metadata": {
    "colab": {
      "name": "1_image_classification1_image_classification.ipynb",
      "version": "0.3.2",
      "provenance": [],
      "collapsed_sections": [],
      "toc_visible": true
    },
    "kernelspec": {
      "name": "python3",
      "display_name": "Python 3"
    }
  },
  "cells": [
    {
      "metadata": {
        "id": "rzahjMmZxUPs",
        "colab_type": "text"
      },
      "cell_type": "markdown",
      "source": [
        "## 目的\n",
        "\n",
        "テスト画像１枚を使い、KerasのApplicationsAPIを利用して推論を行います。\n",
        "\n",
        "ApplicationsAPIのモデルをTensorflow.jsで読み込み可能な形式に変換します。\n",
        "\n",
        "## 事前準備\n",
        "\n",
        "ここではGoogleColaboratoryを使います。\n",
        "\n",
        "ランタイム接続後、左メニュー>ファイル>アップロード よりレポジトリにある画像（coffee.jpg)をアップロードしてください。"
      ]
    },
    {
      "metadata": {
        "id": "WmHjcK4e2laK",
        "colab_type": "text"
      },
      "cell_type": "markdown",
      "source": [
        "GoogleColaboratoryには必要なPythonモジュールがほぼプリオインストールしていますが、Keras．jsモジュールは無いため手動でインストールします。"
      ]
    },
    {
      "metadata": {
        "id": "OtFjRUJO2CEg",
        "colab_type": "code",
        "colab": {
          "base_uri": "https://localhost:8080/",
          "height": 1193
        },
        "outputId": "fcf9b263-3cb9-45e9-a1b0-d57d2867e42b"
      },
      "cell_type": "code",
      "source": [
        "!pip3 install tensorflow==1.7.0\n",
        "!pip3 install keras\n",
        "!pip3 install tensorflowjs"
      ],
      "execution_count": 1,
      "outputs": [
        {
          "output_type": "stream",
          "text": [
            "Collecting tensorflow==1.7.0\n",
            "  Using cached https://files.pythonhosted.org/packages/38/4a/42ba8d00a50a9fafc88dd5935246ecc64ffe1f6a0258ef535ffb9652140b/tensorflow-1.7.0-cp36-cp36m-manylinux1_x86_64.whl\n",
            "Requirement already satisfied: six>=1.10.0 in /usr/local/lib/python3.6/dist-packages (from tensorflow==1.7.0) (1.11.0)\n",
            "Requirement already satisfied: wheel>=0.26 in /usr/local/lib/python3.6/dist-packages (from tensorflow==1.7.0) (0.31.1)\n",
            "Requirement already satisfied: absl-py>=0.1.6 in /usr/local/lib/python3.6/dist-packages (from tensorflow==1.7.0) (0.5.0)\n",
            "Requirement already satisfied: gast>=0.2.0 in /usr/local/lib/python3.6/dist-packages (from tensorflow==1.7.0) (0.2.0)\n",
            "Requirement already satisfied: numpy>=1.13.3 in /usr/local/lib/python3.6/dist-packages (from tensorflow==1.7.0) (1.15.1)\n",
            "Requirement already satisfied: grpcio>=1.8.6 in /usr/local/lib/python3.6/dist-packages (from tensorflow==1.7.0) (1.15.0)\n",
            "Requirement already satisfied: astor>=0.6.0 in /usr/local/lib/python3.6/dist-packages (from tensorflow==1.7.0) (0.7.1)\n",
            "Requirement already satisfied: protobuf>=3.4.0 in /usr/local/lib/python3.6/dist-packages (from tensorflow==1.7.0) (3.6.1)\n",
            "Requirement already satisfied: termcolor>=1.1.0 in /usr/local/lib/python3.6/dist-packages (from tensorflow==1.7.0) (1.1.0)\n",
            "Collecting tensorboard<1.8.0,>=1.7.0 (from tensorflow==1.7.0)\n",
            "  Using cached https://files.pythonhosted.org/packages/0b/ec/65d4e8410038ca2a78c09034094403d231228d0ddcae7d470b223456e55d/tensorboard-1.7.0-py3-none-any.whl\n",
            "Requirement already satisfied: setuptools in /usr/local/lib/python3.6/dist-packages (from protobuf>=3.4.0->tensorflow==1.7.0) (39.1.0)\n",
            "Requirement already satisfied: bleach==1.5.0 in /usr/local/lib/python3.6/dist-packages (from tensorboard<1.8.0,>=1.7.0->tensorflow==1.7.0) (1.5.0)\n",
            "Requirement already satisfied: markdown>=2.6.8 in /usr/local/lib/python3.6/dist-packages (from tensorboard<1.8.0,>=1.7.0->tensorflow==1.7.0) (3.0.1)\n",
            "Requirement already satisfied: html5lib==0.9999999 in /usr/local/lib/python3.6/dist-packages (from tensorboard<1.8.0,>=1.7.0->tensorflow==1.7.0) (0.9999999)\n",
            "Requirement already satisfied: werkzeug>=0.11.10 in /usr/local/lib/python3.6/dist-packages (from tensorboard<1.8.0,>=1.7.0->tensorflow==1.7.0) (0.14.1)\n",
            "\u001b[31mtensorflowjs 0.6.1 has requirement tensorflow==1.10.1, but you'll have tensorflow 1.7.0 which is incompatible.\u001b[0m\n",
            "Installing collected packages: tensorboard, tensorflow\n",
            "  Found existing installation: tensorboard 1.10.0\n",
            "    Uninstalling tensorboard-1.10.0:\n",
            "      Successfully uninstalled tensorboard-1.10.0\n",
            "  Found existing installation: tensorflow 1.10.1\n",
            "    Uninstalling tensorflow-1.10.1:\n",
            "      Successfully uninstalled tensorflow-1.10.1\n",
            "Successfully installed tensorboard-1.7.0 tensorflow-1.7.0\n",
            "Requirement already satisfied: keras in /usr/local/lib/python3.6/dist-packages (2.2.2)\n",
            "Requirement already satisfied: keras-preprocessing==1.0.2 in /usr/local/lib/python3.6/dist-packages (from keras) (1.0.2)\n",
            "Requirement already satisfied: keras-applications==1.0.4 in /usr/local/lib/python3.6/dist-packages (from keras) (1.0.4)\n",
            "Requirement already satisfied: pyyaml in /usr/local/lib/python3.6/dist-packages (from keras) (3.13)\n",
            "Requirement already satisfied: numpy>=1.9.1 in /usr/local/lib/python3.6/dist-packages (from keras) (1.15.1)\n",
            "Requirement already satisfied: six>=1.9.0 in /usr/local/lib/python3.6/dist-packages (from keras) (1.11.0)\n",
            "Requirement already satisfied: scipy>=0.14 in /usr/local/lib/python3.6/dist-packages (from keras) (0.19.1)\n",
            "Requirement already satisfied: h5py in /usr/local/lib/python3.6/dist-packages (from keras) (2.8.0)\n",
            "Requirement already satisfied: tensorflowjs in /usr/local/lib/python3.6/dist-packages (0.6.1)\n",
            "Requirement already satisfied: numpy==1.15.1 in /usr/local/lib/python3.6/dist-packages (from tensorflowjs) (1.15.1)\n",
            "Requirement already satisfied: six==1.11.0 in /usr/local/lib/python3.6/dist-packages (from tensorflowjs) (1.11.0)\n",
            "Requirement already satisfied: h5py==2.8.0 in /usr/local/lib/python3.6/dist-packages (from tensorflowjs) (2.8.0)\n",
            "Requirement already satisfied: keras==2.2.2 in /usr/local/lib/python3.6/dist-packages (from tensorflowjs) (2.2.2)\n",
            "Requirement already satisfied: tensorflow-hub==0.1.1 in /usr/local/lib/python3.6/dist-packages (from tensorflowjs) (0.1.1)\n",
            "Collecting tensorflow==1.10.1 (from tensorflowjs)\n",
            "  Using cached https://files.pythonhosted.org/packages/04/7e/a484776c73b1431f2b077e13801531e966113492552194fe721e6ef88d5d/tensorflow-1.10.1-cp36-cp36m-manylinux1_x86_64.whl\n",
            "Requirement already satisfied: keras-applications==1.0.4 in /usr/local/lib/python3.6/dist-packages (from keras==2.2.2->tensorflowjs) (1.0.4)\n",
            "Requirement already satisfied: pyyaml in /usr/local/lib/python3.6/dist-packages (from keras==2.2.2->tensorflowjs) (3.13)\n",
            "Requirement already satisfied: scipy>=0.14 in /usr/local/lib/python3.6/dist-packages (from keras==2.2.2->tensorflowjs) (0.19.1)\n",
            "Requirement already satisfied: keras-preprocessing==1.0.2 in /usr/local/lib/python3.6/dist-packages (from keras==2.2.2->tensorflowjs) (1.0.2)\n",
            "Requirement already satisfied: protobuf>=3.4.0 in /usr/local/lib/python3.6/dist-packages (from tensorflow-hub==0.1.1->tensorflowjs) (3.6.1)\n",
            "Requirement already satisfied: grpcio>=1.8.6 in /usr/local/lib/python3.6/dist-packages (from tensorflow==1.10.1->tensorflowjs) (1.15.0)\n",
            "Requirement already satisfied: gast>=0.2.0 in /usr/local/lib/python3.6/dist-packages (from tensorflow==1.10.1->tensorflowjs) (0.2.0)\n",
            "Collecting tensorboard<1.11.0,>=1.10.0 (from tensorflow==1.10.1->tensorflowjs)\n",
            "  Using cached https://files.pythonhosted.org/packages/c6/17/ecd918a004f297955c30b4fffbea100b1606c225dbf0443264012773c3ff/tensorboard-1.10.0-py3-none-any.whl\n",
            "Requirement already satisfied: setuptools<=39.1.0 in /usr/local/lib/python3.6/dist-packages (from tensorflow==1.10.1->tensorflowjs) (39.1.0)\n",
            "Requirement already satisfied: termcolor>=1.1.0 in /usr/local/lib/python3.6/dist-packages (from tensorflow==1.10.1->tensorflowjs) (1.1.0)\n",
            "Requirement already satisfied: absl-py>=0.1.6 in /usr/local/lib/python3.6/dist-packages (from tensorflow==1.10.1->tensorflowjs) (0.5.0)\n",
            "Requirement already satisfied: wheel>=0.26 in /usr/local/lib/python3.6/dist-packages (from tensorflow==1.10.1->tensorflowjs) (0.31.1)\n",
            "Requirement already satisfied: astor>=0.6.0 in /usr/local/lib/python3.6/dist-packages (from tensorflow==1.10.1->tensorflowjs) (0.7.1)\n",
            "Requirement already satisfied: werkzeug>=0.11.10 in /usr/local/lib/python3.6/dist-packages (from tensorboard<1.11.0,>=1.10.0->tensorflow==1.10.1->tensorflowjs) (0.14.1)\n",
            "Requirement already satisfied: markdown>=2.6.8 in /usr/local/lib/python3.6/dist-packages (from tensorboard<1.11.0,>=1.10.0->tensorflow==1.10.1->tensorflowjs) (3.0.1)\n",
            "\u001b[31mtensorflow 1.10.1 has requirement numpy<=1.14.5,>=1.13.3, but you'll have numpy 1.15.1 which is incompatible.\u001b[0m\n",
            "Installing collected packages: tensorboard, tensorflow\n",
            "  Found existing installation: tensorboard 1.7.0\n",
            "    Uninstalling tensorboard-1.7.0:\n",
            "      Successfully uninstalled tensorboard-1.7.0\n",
            "  Found existing installation: tensorflow 1.7.0\n",
            "    Uninstalling tensorflow-1.7.0:\n",
            "      Successfully uninstalled tensorflow-1.7.0\n",
            "Successfully installed tensorboard-1.10.0 tensorflow-1.10.1\n"
          ],
          "name": "stdout"
        }
      ]
    },
    {
      "metadata": {
        "id": "yfs8pBvVzeM9",
        "colab_type": "text"
      },
      "cell_type": "markdown",
      "source": [
        "必要なライブラリをインポートします。"
      ]
    },
    {
      "metadata": {
        "id": "jVCWuLqBun0A",
        "colab_type": "code",
        "colab": {
          "base_uri": "https://localhost:8080/",
          "height": 34
        },
        "outputId": "edad5200-0de2-446b-9adb-098989707575"
      },
      "cell_type": "code",
      "source": [
        "import numpy as np\n",
        "from keras.preprocessing import image\n",
        "from keras.models import Model\n",
        "from keras.applications import imagenet_utils, vgg16\n",
        "import tensorflowjs as tfjs"
      ],
      "execution_count": 2,
      "outputs": [
        {
          "output_type": "stream",
          "text": [
            "Using TensorFlow backend.\n"
          ],
          "name": "stderr"
        }
      ]
    },
    {
      "metadata": {
        "id": "PQYjmtn0zot0",
        "colab_type": "text"
      },
      "cell_type": "markdown",
      "source": [
        "続いてテスト画像を正則化する関数を定義します。\n",
        "\n",
        "224☓224ピクセルのカラー画像(224, 224, 3)を推論できるように1次元追加し(1, 224, 224, 3)のテンソルへと変換します。\n",
        "\n",
        "カラー画像のRGB数値は0〜225までの数値で表されるため、正則化した形で画像を読み込みます。"
      ]
    },
    {
      "metadata": {
        "id": "hO-ILpLdzlN0",
        "colab_type": "code",
        "colab": {}
      },
      "cell_type": "code",
      "source": [
        "def process_image(img_path):\n",
        "\timg = image.load_img(img_path, target_size=(224, 224))\n",
        "\timg_array = image.img_to_array(img)\n",
        "\timg_array = np.expand_dims(img_array, axis=0)\n",
        "\tpImg = vgg16.preprocess_input(img_array)\n",
        "\treturn pImg"
      ],
      "execution_count": 0,
      "outputs": []
    },
    {
      "metadata": {
        "id": "YCYJDgDD1Z33",
        "colab_type": "text"
      },
      "cell_type": "markdown",
      "source": [
        "GoogleColaboratoryのローカルに読み込んだ画像（coffee.jpg)を読み込み、KerasのApplicationsAPIを利用して推論します。"
      ]
    },
    {
      "metadata": {
        "id": "ykaqg_H31zNL",
        "colab_type": "code",
        "colab": {
          "base_uri": "https://localhost:8080/",
          "height": 54
        },
        "outputId": "312236c9-ec7f-4614-e259-917798a50069"
      },
      "cell_type": "code",
      "source": [
        "if __name__ == '__main__':\n",
        "\ttest_img_path = test_img_path = \"coffee.jpg\"\n",
        "\tpImg = process_image(test_img_path)\n",
        "\tvgg16 = vgg16.VGG16()\n",
        "\tprediction = vgg16.predict(pImg)\n",
        "\n",
        "\tresults = imagenet_utils.decode_predictions(prediction)\n",
        "\tprint(results)"
      ],
      "execution_count": 4,
      "outputs": [
        {
          "output_type": "stream",
          "text": [
            "[[('n07920052', 'espresso', 0.5647373), ('n07930864', 'cup', 0.37840077), ('n03063599', 'coffee_mug', 0.029493371), ('n04263257', 'soup_bowl', 0.0046833013), ('n03775546', 'mixing_bowl', 0.0027729839)]]\n"
          ],
          "name": "stdout"
        }
      ]
    },
    {
      "metadata": {
        "id": "L8EeE5Gm4Mbo",
        "colab_type": "text"
      },
      "cell_type": "markdown",
      "source": [
        "'espresso', 0.5647369の様な結果が表示されれば、正常に推論がされています。続いてモデルを変換します。"
      ]
    },
    {
      "metadata": {
        "id": "8KijX0rJ4smL",
        "colab_type": "code",
        "colab": {
          "base_uri": "https://localhost:8080/",
          "height": 34
        },
        "outputId": "3de1a445-7244-4dd7-8d25-ea5b84c3ae94"
      },
      "cell_type": "code",
      "source": [
        "#convert the vgg16 model into tf.js model\n",
        "save_path = \"vgg16\"\n",
        "tfjs.converters.save_keras_model(vgg16, save_path)\n",
        "print(\"[INFO] saved tf.js vgg16 model to disk..\")"
      ],
      "execution_count": 5,
      "outputs": [
        {
          "output_type": "stream",
          "text": [
            "[INFO] saved tf.js vgg16 model to disk..\n"
          ],
          "name": "stdout"
        }
      ]
    },
    {
      "metadata": {
        "id": "RR6UEVb58Llj",
        "colab_type": "text"
      },
      "cell_type": "markdown",
      "source": [
        "左メニュー>ファイル>更新後、「vgg16」フォルダがアップロードされていれば正常に動作しています。\n",
        "\n",
        "*   vgg16/group1-shard100of132〜vgg16/group1-shard9of132\n",
        "*   vgg16/model.json\n",
        "\n",
        "これらを選択し、ローカルフォルダへダウンロードします。"
      ]
    }
  ]
}