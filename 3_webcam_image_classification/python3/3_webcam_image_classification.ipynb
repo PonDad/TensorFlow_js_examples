{
  "nbformat": 4,
  "nbformat_minor": 0,
  "metadata": {
    "colab": {
      "name": "3_webcam_image_classification.ipynb",
      "version": "0.3.2",
      "provenance": [],
      "collapsed_sections": [],
      "toc_visible": true
    },
    "kernelspec": {
      "name": "python3",
      "display_name": "Python 3"
    },
    "accelerator": "TPU"
  },
  "cells": [
    {
      "metadata": {
        "id": "rzahjMmZxUPs",
        "colab_type": "text"
      },
      "cell_type": "markdown",
      "source": [
        "## 目的\n",
        "\n",
        "テスト画像１枚を使い、KerasのApplicationsAPIを利用して推論を行います。\n",
        "\n",
        "ApplicationsAPIのモデルをTensorflow.jsで読み込み可能な形式に変換します。\n",
        "\n",
        "## 事前準備\n",
        "\n",
        "ここではGoogleColaboratoryを使います。\n",
        "\n",
        "ランタイム接続後、左メニュー>ファイル>アップロード よりレポジトリにある画像（coffee.jpg)をアップロードしてください。"
      ]
    },
    {
      "metadata": {
        "id": "WmHjcK4e2laK",
        "colab_type": "text"
      },
      "cell_type": "markdown",
      "source": [
        "GoogleColaboratoryには必要なPythonモジュールがほぼプリオインストールしていますが、Keras．jsモジュールは無いため手動でインストールします。"
      ]
    },
    {
      "metadata": {
        "id": "OtFjRUJO2CEg",
        "colab_type": "code",
        "colab": {
          "base_uri": "https://localhost:8080/",
          "height": 1771
        },
        "outputId": "6df22cc3-631d-40ad-e6a3-ceb0e24e21f4"
      },
      "cell_type": "code",
      "source": [
        "!pip3 install tensorflow==1.7.0\n",
        "!pip3 install keras\n",
        "!pip3 install tensorflowjs"
      ],
      "execution_count": 0,
      "outputs": [
        {
          "output_type": "stream",
          "text": [
            "Collecting tensorflow==1.7.0\n",
            "\u001b[?25l  Downloading https://files.pythonhosted.org/packages/38/4a/42ba8d00a50a9fafc88dd5935246ecc64ffe1f6a0258ef535ffb9652140b/tensorflow-1.7.0-cp36-cp36m-manylinux1_x86_64.whl (48.0MB)\n",
            "\u001b[K    100% |████████████████████████████████| 48.0MB 712kB/s \n",
            "\u001b[?25hRequirement already satisfied: six>=1.10.0 in /usr/local/lib/python3.6/dist-packages (from tensorflow==1.7.0) (1.11.0)\n",
            "Collecting tensorboard<1.8.0,>=1.7.0 (from tensorflow==1.7.0)\n",
            "\u001b[?25l  Downloading https://files.pythonhosted.org/packages/0b/ec/65d4e8410038ca2a78c09034094403d231228d0ddcae7d470b223456e55d/tensorboard-1.7.0-py3-none-any.whl (3.1MB)\n",
            "\u001b[K    100% |████████████████████████████████| 3.1MB 4.1MB/s \n",
            "\u001b[?25hRequirement already satisfied: numpy>=1.13.3 in /usr/local/lib/python3.6/dist-packages (from tensorflow==1.7.0) (1.14.6)\n",
            "Requirement already satisfied: wheel>=0.26 in /usr/local/lib/python3.6/dist-packages (from tensorflow==1.7.0) (0.31.1)\n",
            "Requirement already satisfied: termcolor>=1.1.0 in /usr/local/lib/python3.6/dist-packages (from tensorflow==1.7.0) (1.1.0)\n",
            "Requirement already satisfied: astor>=0.6.0 in /usr/local/lib/python3.6/dist-packages (from tensorflow==1.7.0) (0.7.1)\n",
            "Requirement already satisfied: gast>=0.2.0 in /usr/local/lib/python3.6/dist-packages (from tensorflow==1.7.0) (0.2.0)\n",
            "Requirement already satisfied: protobuf>=3.4.0 in /usr/local/lib/python3.6/dist-packages (from tensorflow==1.7.0) (3.6.1)\n",
            "Requirement already satisfied: grpcio>=1.8.6 in /usr/local/lib/python3.6/dist-packages (from tensorflow==1.7.0) (1.15.0)\n",
            "Requirement already satisfied: absl-py>=0.1.6 in /usr/local/lib/python3.6/dist-packages (from tensorflow==1.7.0) (0.5.0)\n",
            "Requirement already satisfied: markdown>=2.6.8 in /usr/local/lib/python3.6/dist-packages (from tensorboard<1.8.0,>=1.7.0->tensorflow==1.7.0) (3.0.1)\n",
            "Requirement already satisfied: werkzeug>=0.11.10 in /usr/local/lib/python3.6/dist-packages (from tensorboard<1.8.0,>=1.7.0->tensorflow==1.7.0) (0.14.1)\n",
            "Collecting bleach==1.5.0 (from tensorboard<1.8.0,>=1.7.0->tensorflow==1.7.0)\n",
            "  Downloading https://files.pythonhosted.org/packages/33/70/86c5fec937ea4964184d4d6c4f0b9551564f821e1c3575907639036d9b90/bleach-1.5.0-py2.py3-none-any.whl\n",
            "Collecting html5lib==0.9999999 (from tensorboard<1.8.0,>=1.7.0->tensorflow==1.7.0)\n",
            "\u001b[?25l  Downloading https://files.pythonhosted.org/packages/ae/ae/bcb60402c60932b32dfaf19bb53870b29eda2cd17551ba5639219fb5ebf9/html5lib-0.9999999.tar.gz (889kB)\n",
            "\u001b[K    100% |████████████████████████████████| 890kB 1.3MB/s \n",
            "\u001b[?25hRequirement already satisfied: setuptools in /usr/local/lib/python3.6/dist-packages (from protobuf>=3.4.0->tensorflow==1.7.0) (39.1.0)\n",
            "Building wheels for collected packages: html5lib\n",
            "  Running setup.py bdist_wheel for html5lib ... \u001b[?25l-\b \b\\\b \bdone\n",
            "\u001b[?25h  Stored in directory: /root/.cache/pip/wheels/50/ae/f9/d2b189788efcf61d1ee0e36045476735c838898eef1cad6e29\n",
            "Successfully built html5lib\n",
            "Installing collected packages: html5lib, bleach, tensorboard, tensorflow\n",
            "  Found existing installation: html5lib 1.0.1\n",
            "    Uninstalling html5lib-1.0.1:\n",
            "      Successfully uninstalled html5lib-1.0.1\n",
            "  Found existing installation: bleach 2.1.4\n",
            "    Uninstalling bleach-2.1.4:\n",
            "      Successfully uninstalled bleach-2.1.4\n",
            "  Found existing installation: tensorboard 1.10.0\n",
            "    Uninstalling tensorboard-1.10.0:\n",
            "      Successfully uninstalled tensorboard-1.10.0\n",
            "  Found existing installation: tensorflow 1.11.0rc2\n",
            "    Uninstalling tensorflow-1.11.0rc2:\n",
            "      Successfully uninstalled tensorflow-1.11.0rc2\n",
            "Successfully installed bleach-1.5.0 html5lib-0.9999999 tensorboard-1.7.0 tensorflow-1.7.0\n",
            "Requirement already satisfied: keras in /usr/local/lib/python3.6/dist-packages (2.1.6)\n",
            "Requirement already satisfied: pyyaml in /usr/local/lib/python3.6/dist-packages (from keras) (3.13)\n",
            "Requirement already satisfied: numpy>=1.9.1 in /usr/local/lib/python3.6/dist-packages (from keras) (1.14.6)\n",
            "Requirement already satisfied: scipy>=0.14 in /usr/local/lib/python3.6/dist-packages (from keras) (0.19.1)\n",
            "Requirement already satisfied: six>=1.9.0 in /usr/local/lib/python3.6/dist-packages (from keras) (1.11.0)\n",
            "Requirement already satisfied: h5py in /usr/local/lib/python3.6/dist-packages (from keras) (2.8.0)\n",
            "Collecting tensorflowjs\n",
            "  Downloading https://files.pythonhosted.org/packages/4c/ba/a4372caa01427c179d271603fa305c9239ac2300d7b065ddc6fac46332f4/tensorflowjs-0.6.1-py3-none-any.whl\n",
            "Requirement already satisfied: tensorflow-hub==0.1.1 in /usr/local/lib/python3.6/dist-packages (from tensorflowjs) (0.1.1)\n",
            "Requirement already satisfied: h5py==2.8.0 in /usr/local/lib/python3.6/dist-packages (from tensorflowjs) (2.8.0)\n",
            "Collecting numpy==1.15.1 (from tensorflowjs)\n",
            "\u001b[?25l  Downloading https://files.pythonhosted.org/packages/fe/94/7049fed8373c52839c8cde619acaf2c9b83082b935e5aa8c0fa27a4a8bcc/numpy-1.15.1-cp36-cp36m-manylinux1_x86_64.whl (13.9MB)\n",
            "\u001b[K    100% |████████████████████████████████| 13.9MB 2.4MB/s \n",
            "\u001b[?25hCollecting tensorflow==1.10.1 (from tensorflowjs)\n",
            "\u001b[?25l  Downloading https://files.pythonhosted.org/packages/04/7e/a484776c73b1431f2b077e13801531e966113492552194fe721e6ef88d5d/tensorflow-1.10.1-cp36-cp36m-manylinux1_x86_64.whl (58.4MB)\n",
            "\u001b[K    100% |████████████████████████████████| 58.4MB 646kB/s \n",
            "\u001b[?25hCollecting keras==2.2.2 (from tensorflowjs)\n",
            "\u001b[?25l  Downloading https://files.pythonhosted.org/packages/34/7d/b1dedde8af99bd82f20ed7e9697aac0597de3049b1f786aa2aac3b9bd4da/Keras-2.2.2-py2.py3-none-any.whl (299kB)\n",
            "\u001b[K    100% |████████████████████████████████| 307kB 15.0MB/s \n",
            "\u001b[?25hRequirement already satisfied: six==1.11.0 in /usr/local/lib/python3.6/dist-packages (from tensorflowjs) (1.11.0)\n",
            "Requirement already satisfied: protobuf>=3.4.0 in /usr/local/lib/python3.6/dist-packages (from tensorflow-hub==0.1.1->tensorflowjs) (3.6.1)\n",
            "Requirement already satisfied: absl-py>=0.1.6 in /usr/local/lib/python3.6/dist-packages (from tensorflow==1.10.1->tensorflowjs) (0.5.0)\n",
            "Requirement already satisfied: grpcio>=1.8.6 in /usr/local/lib/python3.6/dist-packages (from tensorflow==1.10.1->tensorflowjs) (1.15.0)\n",
            "Requirement already satisfied: wheel>=0.26 in /usr/local/lib/python3.6/dist-packages (from tensorflow==1.10.1->tensorflowjs) (0.31.1)\n",
            "Requirement already satisfied: gast>=0.2.0 in /usr/local/lib/python3.6/dist-packages (from tensorflow==1.10.1->tensorflowjs) (0.2.0)\n",
            "Requirement already satisfied: astor>=0.6.0 in /usr/local/lib/python3.6/dist-packages (from tensorflow==1.10.1->tensorflowjs) (0.7.1)\n",
            "Requirement already satisfied: setuptools<=39.1.0 in /usr/local/lib/python3.6/dist-packages (from tensorflow==1.10.1->tensorflowjs) (39.1.0)\n",
            "Collecting tensorboard<1.11.0,>=1.10.0 (from tensorflow==1.10.1->tensorflowjs)\n",
            "\u001b[?25l  Downloading https://files.pythonhosted.org/packages/c6/17/ecd918a004f297955c30b4fffbea100b1606c225dbf0443264012773c3ff/tensorboard-1.10.0-py3-none-any.whl (3.3MB)\n",
            "\u001b[K    100% |████████████████████████████████| 3.3MB 900kB/s \n",
            "\u001b[?25hRequirement already satisfied: termcolor>=1.1.0 in /usr/local/lib/python3.6/dist-packages (from tensorflow==1.10.1->tensorflowjs) (1.1.0)\n",
            "Collecting keras-preprocessing==1.0.2 (from keras==2.2.2->tensorflowjs)\n",
            "  Downloading https://files.pythonhosted.org/packages/71/26/1e778ebd737032749824d5cba7dbd3b0cf9234b87ab5ec79f5f0403ca7e9/Keras_Preprocessing-1.0.2-py2.py3-none-any.whl\n",
            "Collecting keras-applications==1.0.4 (from keras==2.2.2->tensorflowjs)\n",
            "\u001b[?25l  Downloading https://files.pythonhosted.org/packages/54/90/8f327deaa37a71caddb59b7b4aaa9d4b3e90c0e76f8c2d1572005278ddc5/Keras_Applications-1.0.4-py2.py3-none-any.whl (43kB)\n",
            "\u001b[K    100% |████████████████████████████████| 51kB 18.9MB/s \n",
            "\u001b[?25hRequirement already satisfied: pyyaml in /usr/local/lib/python3.6/dist-packages (from keras==2.2.2->tensorflowjs) (3.13)\n",
            "Requirement already satisfied: scipy>=0.14 in /usr/local/lib/python3.6/dist-packages (from keras==2.2.2->tensorflowjs) (0.19.1)\n",
            "Requirement already satisfied: markdown>=2.6.8 in /usr/local/lib/python3.6/dist-packages (from tensorboard<1.11.0,>=1.10.0->tensorflow==1.10.1->tensorflowjs) (3.0.1)\n",
            "Requirement already satisfied: werkzeug>=0.11.10 in /usr/local/lib/python3.6/dist-packages (from tensorboard<1.11.0,>=1.10.0->tensorflow==1.10.1->tensorflowjs) (0.14.1)\n",
            "\u001b[31mtensorflow 1.10.1 has requirement numpy<=1.14.5,>=1.13.3, but you'll have numpy 1.15.1 which is incompatible.\u001b[0m\n",
            "Installing collected packages: numpy, tensorboard, tensorflow, keras-preprocessing, keras-applications, keras, tensorflowjs\n",
            "  Found existing installation: numpy 1.14.6\n",
            "    Uninstalling numpy-1.14.6:\n",
            "      Successfully uninstalled numpy-1.14.6\n",
            "  Found existing installation: tensorboard 1.7.0\n",
            "    Uninstalling tensorboard-1.7.0:\n",
            "      Successfully uninstalled tensorboard-1.7.0\n",
            "  Found existing installation: tensorflow 1.7.0\n",
            "    Uninstalling tensorflow-1.7.0:\n",
            "      Successfully uninstalled tensorflow-1.7.0\n",
            "  Found existing installation: Keras-Preprocessing 1.0.3\n",
            "    Uninstalling Keras-Preprocessing-1.0.3:\n",
            "      Successfully uninstalled Keras-Preprocessing-1.0.3\n",
            "  Found existing installation: Keras-Applications 1.0.5\n",
            "    Uninstalling Keras-Applications-1.0.5:\n",
            "      Successfully uninstalled Keras-Applications-1.0.5\n",
            "  Found existing installation: Keras 2.1.6\n",
            "    Uninstalling Keras-2.1.6:\n",
            "      Successfully uninstalled Keras-2.1.6\n",
            "Successfully installed keras-2.2.2 keras-applications-1.0.4 keras-preprocessing-1.0.2 numpy-1.15.1 tensorboard-1.10.0 tensorflow-1.10.1 tensorflowjs-0.6.1\n"
          ],
          "name": "stdout"
        }
      ]
    },
    {
      "metadata": {
        "id": "yfs8pBvVzeM9",
        "colab_type": "text"
      },
      "cell_type": "markdown",
      "source": [
        "## 実行\n",
        "\n",
        "必要なライブラリをインポートします。"
      ]
    },
    {
      "metadata": {
        "id": "jVCWuLqBun0A",
        "colab_type": "code",
        "colab": {
          "base_uri": "https://localhost:8080/",
          "height": 34
        },
        "outputId": "c356b13a-d65d-406f-e75a-8db6385a0906"
      },
      "cell_type": "code",
      "source": [
        "import numpy as np\n",
        "from keras.preprocessing import image\n",
        "from keras.models import Model\n",
        "from keras.applications import imagenet_utils, vgg16\n",
        "import tensorflowjs as tfjs"
      ],
      "execution_count": 0,
      "outputs": [
        {
          "output_type": "stream",
          "text": [
            "Using TensorFlow backend.\n"
          ],
          "name": "stderr"
        }
      ]
    },
    {
      "metadata": {
        "id": "PQYjmtn0zot0",
        "colab_type": "text"
      },
      "cell_type": "markdown",
      "source": [
        "続いてテスト画像を正則化する関数を定義します。\n",
        "\n",
        "224☓224ピクセルのカラー画像(224, 224, 3)を推論できるように1次元追加し(1, 224, 224, 3)のテンソルへと変換します。\n",
        "\n",
        "カラー画像のRGB数値は0〜225までの数値で表されるため、正則化した形で画像を読み込みます。"
      ]
    },
    {
      "metadata": {
        "id": "hO-ILpLdzlN0",
        "colab_type": "code",
        "colab": {}
      },
      "cell_type": "code",
      "source": [
        "def process_image(img_path):\n",
        "\timg = image.load_img(img_path, target_size=(224, 224))\n",
        "\timg_array = image.img_to_array(img)\n",
        "\timg_array = np.expand_dims(img_array, axis=0)\n",
        "\tpImg = vgg16.preprocess_input(img_array)\n",
        "\treturn pImg"
      ],
      "execution_count": 0,
      "outputs": []
    },
    {
      "metadata": {
        "id": "YCYJDgDD1Z33",
        "colab_type": "text"
      },
      "cell_type": "markdown",
      "source": [
        "GoogleColaboratoryのローカルに読み込んだ画像（coffee.jpg)を読み込み、KerasのApplicationsAPIを利用して推論します。"
      ]
    },
    {
      "metadata": {
        "id": "ykaqg_H31zNL",
        "colab_type": "code",
        "colab": {
          "base_uri": "https://localhost:8080/",
          "height": 122
        },
        "outputId": "f9b047f2-ea36-4f13-933c-63df9b8e175b"
      },
      "cell_type": "code",
      "source": [
        "if __name__ == '__main__':\n",
        "\ttest_img_path = test_img_path = \"coffee.jpg\"\n",
        "\tpImg = process_image(test_img_path)\n",
        "\tvgg16 = vgg16.VGG16()\n",
        "\tprediction = vgg16.predict(pImg)\n",
        "\n",
        "\tresults = imagenet_utils.decode_predictions(prediction)\n",
        "\tprint(results)"
      ],
      "execution_count": 0,
      "outputs": [
        {
          "output_type": "stream",
          "text": [
            "Downloading data from https://github.com/fchollet/deep-learning-models/releases/download/v0.1/vgg16_weights_tf_dim_ordering_tf_kernels.h5\n",
            "553467904/553467096 [==============================] - 22s 0us/step\n",
            "Downloading data from https://s3.amazonaws.com/deep-learning-models/image-models/imagenet_class_index.json\n",
            "40960/35363 [==================================] - 0s 4us/step\n",
            "[[('n07920052', 'espresso', 0.5647373), ('n07930864', 'cup', 0.37840077), ('n03063599', 'coffee_mug', 0.029493371), ('n04263257', 'soup_bowl', 0.0046833013), ('n03775546', 'mixing_bowl', 0.0027729839)]]\n"
          ],
          "name": "stdout"
        }
      ]
    },
    {
      "metadata": {
        "id": "L8EeE5Gm4Mbo",
        "colab_type": "text"
      },
      "cell_type": "markdown",
      "source": [
        "'espresso', 0.5647369の様な結果が表示されれば、正常に推論がされています。続いてモデルを変換します。"
      ]
    },
    {
      "metadata": {
        "id": "8KijX0rJ4smL",
        "colab_type": "code",
        "colab": {
          "base_uri": "https://localhost:8080/",
          "height": 34
        },
        "outputId": "97246524-697e-495d-af93-ca08470d3e5b"
      },
      "cell_type": "code",
      "source": [
        "#convert the vgg16 model into tf.js model\n",
        "save_path = \"vgg16\"\n",
        "tfjs.converters.save_keras_model(vgg16, save_path)\n",
        "print(\"[INFO] saved tf.js vgg16 model to disk..\")"
      ],
      "execution_count": 0,
      "outputs": [
        {
          "output_type": "stream",
          "text": [
            "[INFO] saved tf.js vgg16 model to disk..\n"
          ],
          "name": "stdout"
        }
      ]
    },
    {
      "metadata": {
        "id": "RR6UEVb58Llj",
        "colab_type": "text"
      },
      "cell_type": "markdown",
      "source": [
        "左メニュー>ファイル>更新後、「vgg16」フォルダがアップロードされていれば正常に動作しています。\n",
        "\n",
        "*   vgg16/group1-shard100of132〜vgg16/group1-shard9of132\n",
        "*   vgg16/model.json\n",
        "\n",
        "これらをローカルフォルダへダウンロードします。"
      ]
    }
  ]
}